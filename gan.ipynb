{
 "cells": [
  {
   "cell_type": "markdown",
   "metadata": {},
   "source": [
    "### **Creating a new GAN model for alphabet generation on the MNIST dataset.**\n",
    "\n",
    "- Name: Rezky Adrianshah\n",
    "- Class: DAAA/FT/2B/02\n",
    "- Lecturer: Mr Liu Zheng\n",
    "- Module: ST1516 : DEVOPS AND AUTOMATION FOR AI\n",
    "\n",
    "<hr></hr>\n",
    "\n",
    "##### **Background**\n",
    "\n",
    "We are to create a and train a well-performing GAN model to generate images based on the MNIST letter dataset. This model will later be used in conjunction with tensorflow-serving, in order to deploy it on a webservice later on.\n",
    "\n",
    "##### *Why not use the GAN model made in during the Deep Learning module?*\n",
    "\n",
    "For this project, I have decided to use the Tensorflow/Serving docker image, due to ease of use, familiarity and reliability as an industry standard. The previous model was made using pytorch, and thus we will need to create a new model using tensorflow. However, we can maintain the practices and structure used, just adapted for Tensorflow."
   ]
  }
 ],
 "metadata": {
  "language_info": {
   "name": "python"
  }
 },
 "nbformat": 4,
 "nbformat_minor": 2
}
